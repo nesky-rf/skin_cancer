{
 "cells": [
  {
   "cell_type": "markdown",
   "metadata": {},
   "source": [
    "## Feature creation/engineering"
   ]
  },
  {
   "cell_type": "markdown",
   "metadata": {},
   "source": [
    "### Setup environment"
   ]
  },
  {
   "cell_type": "code",
   "execution_count": 1,
   "metadata": {},
   "outputs": [],
   "source": [
    "from skimage import io\n",
    "import os\n",
    "\n",
    "# local root dataset folder\n",
    "dataset_root = 'datasets/'\n",
    "# local image data process\n",
    "process_root = 'data_scaled_wip/'"
   ]
  },
  {
   "cell_type": "markdown",
   "metadata": {},
   "source": [
    "### Helper functions"
   ]
  },
  {
   "cell_type": "markdown",
   "metadata": {},
   "source": [
    "#### ISIC images dataset"
   ]
  },
  {
   "cell_type": "code",
   "execution_count": null,
   "metadata": {
    "scrolled": true
   },
   "outputs": [],
   "source": [
    "# recursive *.jpg image generator\n",
    "def get_images(root_dir):\n",
    "    for entry in os.scandir(root_dir):\n",
    "        if entry.name.endswith(\".jpg\") and entry.is_file():\n",
    "            print(entry.path)\n",
    "        elif entry.is_dir():\n",
    "            yield from get_images(entry.path)\n",
    "# retrive images path\n",
    "for image in get_images(dataset_root):\n",
    "    print(image)"
   ]
  },
  {
   "cell_type": "markdown",
   "metadata": {},
   "source": [
    "#### ISIC metadata dataset"
   ]
  },
  {
   "cell_type": "code",
   "execution_count": 3,
   "metadata": {},
   "outputs": [
    {
     "name": "stdout",
     "output_type": "stream",
     "text": [
      "datasets/MSK-4/metadata.csv\n",
      "datasets/UDA-2/metadata.csv\n",
      "datasets/MSK-2/metadata.csv\n",
      "datasets/UDA-1/metadata.csv\n",
      "datasets/MSK-1/metadata.csv\n",
      "datasets/MSK-3/metadata.csv\n",
      "datasets/MSK-5/metadata.csv\n"
     ]
    }
   ],
   "source": [
    "# recursive directory names generator\n",
    "def get_dataset_path(root_dir):\n",
    "    for entry in os.scandir(root_dir):\n",
    "        if entry.is_dir():\n",
    "            yield entry.path\n",
    "# retrieve dataset paths\n",
    "for path in get_dataset_path(dataset_root):\n",
    "    for entry in os.scandir(path):\n",
    "        if entry.name.endswith(\".csv\") and entry.is_file():\n",
    "            print(path + os.sep + entry.name)"
   ]
  },
  {
   "cell_type": "markdown",
   "metadata": {},
   "source": [
    "### Data transformation"
   ]
  },
  {
   "cell_type": "code",
   "execution_count": 2,
   "metadata": {},
   "outputs": [],
   "source": [
    "import numpy as np\n",
    "from skimage.util import img_as_ubyte\n",
    "from skimage.transform import resize\n",
    "\n",
    "# function for data augmenatation and processing\n",
    "def image_process(image_name, output_folder, output_size=(128,128)):\n",
    "    # crop images to max square area available\n",
    "    image = io.imread(image_name)\n",
    "    h,w=round(image.shape[0]/2),round(image.shape[1]/2)\n",
    "    n=np.minimum(w,h)\n",
    "    l,t,r,b = w-n, h-n, w+n, h+n\n",
    "    # resize image w/ anti_alias filter\n",
    "    image = resize(image[t:b,l:r],output_size, anti_aliasing=True)\n",
    "    # convert to ubyte scale\n",
    "    image = img_as_ubyte(image)\n",
    "    # store scaled_image\n",
    "    io.imsave(output_folder + os.sep + image_name.split('/')[-1], image)"
   ]
  },
  {
   "cell_type": "code",
   "execution_count": 6,
   "metadata": {},
   "outputs": [
    {
     "name": "stderr",
     "output_type": "stream",
     "text": [
      "100%|██████████| 60/60 [01:36<00:00,  1.61s/it]"
     ]
    },
    {
     "name": "stdout",
     "output_type": "stream",
     "text": [
      "Total 60 images: Benign = 23(38.33%), Malignant = 37(61.67%), Unknown = 0(0.00%, Non-Exist = 0(0.00%))\n"
     ]
    },
    {
     "name": "stderr",
     "output_type": "stream",
     "text": [
      "\n"
     ]
    }
   ],
   "source": [
    "import os\n",
    "import pandas as pd\n",
    "from tqdm import tqdm\n",
    "\n",
    "# specify image dataset folder to process\n",
    "dataset_folder = 'datasets/UDA-2/'\n",
    "\n",
    "# field to classify images\n",
    "dataset_split = 'clinical.benign_malignant'\n",
    "split_positive = 'benign'\n",
    "split_negative = 'malignant'\n",
    "\n",
    "# create output folders for classifier\n",
    "if(not os.path.exists(process_root)):\n",
    "    os.mkdir(process_root)\n",
    "    os.mkdir(process_root + split_positive)\n",
    "    os.mkdir(process_root + split_negative)\n",
    "\n",
    "# get metadata.csv for splitting bening and/or malignant\n",
    "image = pd.read_csv(dataset_folder + 'metadata.csv', usecols=['image_name',dataset_split])\n",
    "# image output stats\n",
    "n_benign = n_malignant = n_unknown = n_nonexist = n_total = 0\n",
    "# progress bar\n",
    "pbar = tqdm(total=len(image))\n",
    "# read field to classify and process images\n",
    "for _,row in image.iterrows():\n",
    "    # update progress bar\n",
    "    pbar.update(1)\n",
    "    # file_name check\n",
    "    file_name = dataset_folder + row['image_name'] + '.jpg'\n",
    "    if(os.path.exists(file_name)):\n",
    "        # image processing & store\n",
    "        if(row[dataset_split] == split_positive):\n",
    "            image_process(file_name, process_root + split_positive)\n",
    "            n_benign += 1\n",
    "        elif(row[dataset_split] == split_negative):\n",
    "            image_process(file_name, process_root + split_negative)\n",
    "            n_malignant += 1\n",
    "        else:\n",
    "            n_unknown += 1\n",
    "    else:\n",
    "        n_nonexist += 1\n",
    "# progress bar\n",
    "pbar.close()\n",
    "# stats\n",
    "n_total = n_benign+n_malignant+n_unknown+n_nonexist\n",
    "# Images processed according to metadata dataset stats\n",
    "print(\"Total {} images: Benign = {}({:2.2%}), Malignant = {}({:2.2%}), Unknown = {}({:2.2%}, Non-Exist = {}({:2.2%}))\"\\\n",
    "      .format(n_total,n_benign,n_benign/n_total,n_malignant,n_malignant/n_total,n_unknown,n_unknown/n_total,n_nonexist,n_nonexist/n_total))"
   ]
  },
  {
   "cell_type": "code",
   "execution_count": null,
   "metadata": {},
   "outputs": [],
   "source": []
  },
  {
   "cell_type": "code",
   "execution_count": null,
   "metadata": {},
   "outputs": [],
   "source": []
  }
 ],
 "metadata": {
  "kernelspec": {
   "display_name": "Python (venv)",
   "language": "python",
   "name": "venv"
  },
  "language_info": {
   "codemirror_mode": {
    "name": "ipython",
    "version": 3
   },
   "file_extension": ".py",
   "mimetype": "text/x-python",
   "name": "python",
   "nbconvert_exporter": "python",
   "pygments_lexer": "ipython3",
   "version": "3.7.3"
  }
 },
 "nbformat": 4,
 "nbformat_minor": 4
}
