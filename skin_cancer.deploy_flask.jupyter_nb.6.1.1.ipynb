{
 "cells": [
  {
   "cell_type": "markdown",
   "metadata": {},
   "source": [
    "# Deploy to Flask (www)"
   ]
  },
  {
   "cell_type": "markdown",
   "metadata": {},
   "source": [
    "## Setup environment"
   ]
  },
  {
   "cell_type": "code",
   "execution_count": 1,
   "metadata": {},
   "outputs": [],
   "source": [
    "import matplotlib.pyplot as plt\n",
    "import matplotlib as mpl\n",
    "import numpy as np\n",
    "import os, tempfile\n",
    "\n",
    "mpl.rcParams['figure.figsize'] = (10, 5)\n",
    "colors = plt.rcParams['axes.prop_cycle'].by_key()['color']"
   ]
  },
  {
   "cell_type": "markdown",
   "metadata": {},
   "source": [
    "## Load trained Model"
   ]
  },
  {
   "cell_type": "code",
   "execution_count": 22,
   "metadata": {},
   "outputs": [
    {
     "name": "stdout",
     "output_type": "stream",
     "text": [
      "/home/jordi/Documents/repo/health/flask_app\n",
      " * Serving Flask app \"app\" (lazy loading)\n",
      " * Environment: development\n",
      " * Debug mode: on\n",
      " * Running on http://127.0.0.1:5000/ (Press CTRL+C to quit)\n",
      " * Restarting with stat\n",
      "2021-04-15 19:51:28.932679: W tensorflow/stream_executor/platform/default/dso_loader.cc:60] Could not load dynamic library 'libcudart.so.11.0'; dlerror: libcudart.so.11.0: cannot open shared object file: No such file or directory\n",
      "2021-04-15 19:51:28.932716: I tensorflow/stream_executor/cuda/cudart_stub.cc:29] Ignore above cudart dlerror if you do not have a GPU set up on your machine.\n",
      " * Debugger is active!\n",
      " * Debugger PIN: 211-986-096\n",
      "2021-04-15 19:51:29.264236: W tensorflow/stream_executor/platform/default/dso_loader.cc:60] Could not load dynamic library 'libcudart.so.11.0'; dlerror: libcudart.so.11.0: cannot open shared object file: No such file or directory\n",
      "2021-04-15 19:51:29.264277: I tensorflow/stream_executor/cuda/cudart_stub.cc:29] Ignore above cudart dlerror if you do not have a GPU set up on your machine.\n",
      "127.0.0.1 - - [15/Apr/2021 19:51:38] \"\u001b[35m\u001b[1mGET /1/predict HTTP/1.1\u001b[0m\" 500 -\n",
      "Traceback (most recent call last):\n",
      "  File \"/home/jordi/venv/lib/python3.7/site-packages/flask/_compat.py\", line 39, in reraise\n",
      "    raise value\n",
      "  File \"/home/jordi/Documents/repo/health/flask_app/app.py\", line 86, in <module>\n",
      "    @app.route('<int:id>/predict')#, methods=('POST',))\n",
      "  File \"/home/jordi/venv/lib/python3.7/site-packages/flask/app.py\", line 1315, in decorator\n",
      "    self.add_url_rule(rule, endpoint, f, **options)\n",
      "  File \"/home/jordi/venv/lib/python3.7/site-packages/flask/app.py\", line 98, in wrapper_func\n",
      "    return f(self, *args, **kwargs)\n",
      "  File \"/home/jordi/venv/lib/python3.7/site-packages/flask/app.py\", line 1275, in add_url_rule\n",
      "    rule = self.url_rule_class(rule, methods=methods, **options)\n",
      "  File \"/home/jordi/venv/lib/python3.7/site-packages/werkzeug/routing.py\", line 666, in __init__\n",
      "    raise ValueError(\"urls must start with a leading slash\")\n",
      "ValueError: urls must start with a leading slash\n",
      "127.0.0.1 - - [15/Apr/2021 19:51:39] \"\u001b[37mGET /1/predict?__debugger__=yes&cmd=resource&f=style.css HTTP/1.1\u001b[0m\" 200 -\n",
      "127.0.0.1 - - [15/Apr/2021 19:51:39] \"\u001b[37mGET /1/predict?__debugger__=yes&cmd=resource&f=jquery.js HTTP/1.1\u001b[0m\" 200 -\n",
      "127.0.0.1 - - [15/Apr/2021 19:51:39] \"\u001b[37mGET /1/predict?__debugger__=yes&cmd=resource&f=debugger.js HTTP/1.1\u001b[0m\" 200 -\n",
      "127.0.0.1 - - [15/Apr/2021 19:51:39] \"\u001b[37mGET /1/predict?__debugger__=yes&cmd=resource&f=console.png HTTP/1.1\u001b[0m\" 200 -\n",
      "127.0.0.1 - - [15/Apr/2021 19:51:39] \"\u001b[37mGET /1/predict?__debugger__=yes&cmd=resource&f=console.png HTTP/1.1\u001b[0m\" 200 -\n",
      "127.0.0.1 - - [15/Apr/2021 19:51:39] \"\u001b[37mGET /1/predict?__debugger__=yes&cmd=resource&f=ubuntu.ttf HTTP/1.1\u001b[0m\" 200 -\n",
      "2021-04-15 19:52:18.612818: I tensorflow/compiler/jit/xla_cpu_device.cc:41] Not creating XLA devices, tf_xla_enable_xla_devices not set\n",
      "2021-04-15 19:52:18.613005: W tensorflow/stream_executor/platform/default/dso_loader.cc:60] Could not load dynamic library 'libcuda.so.1'; dlerror: libcuda.so.1: cannot open shared object file: No such file or directory\n",
      "2021-04-15 19:52:18.613022: W tensorflow/stream_executor/cuda/cuda_driver.cc:326] failed call to cuInit: UNKNOWN ERROR (303)\n",
      "2021-04-15 19:52:18.613041: I tensorflow/stream_executor/cuda/cuda_diagnostics.cc:156] kernel driver does not appear to be running on this host (debian): /proc/driver/nvidia/version does not exist\n",
      "2021-04-15 19:52:18.613841: I tensorflow/compiler/jit/xla_gpu_device.cc:99] Not creating XLA devices, tf_xla_enable_xla_devices not set\n",
      "127.0.0.1 - - [15/Apr/2021 19:52:18] \"\u001b[35m\u001b[1mGET /1/predict HTTP/1.1\u001b[0m\" 500 -\n",
      "Traceback (most recent call last):\n",
      "  File \"/home/jordi/venv/lib/python3.7/site-packages/flask/app.py\", line 2464, in __call__\n",
      "    return self.wsgi_app(environ, start_response)\n",
      "  File \"/home/jordi/venv/lib/python3.7/site-packages/flask/app.py\", line 2450, in wsgi_app\n",
      "    response = self.handle_exception(e)\n",
      "  File \"/home/jordi/venv/lib/python3.7/site-packages/flask/app.py\", line 1867, in handle_exception\n",
      "    reraise(exc_type, exc_value, tb)\n",
      "  File \"/home/jordi/venv/lib/python3.7/site-packages/flask/_compat.py\", line 39, in reraise\n",
      "    raise value\n",
      "  File \"/home/jordi/venv/lib/python3.7/site-packages/flask/app.py\", line 2447, in wsgi_app\n",
      "    response = self.full_dispatch_request()\n",
      "  File \"/home/jordi/venv/lib/python3.7/site-packages/flask/app.py\", line 1952, in full_dispatch_request\n",
      "    rv = self.handle_user_exception(e)\n",
      "  File \"/home/jordi/venv/lib/python3.7/site-packages/flask/app.py\", line 1821, in handle_user_exception\n",
      "    reraise(exc_type, exc_value, tb)\n",
      "  File \"/home/jordi/venv/lib/python3.7/site-packages/flask/_compat.py\", line 39, in reraise\n",
      "    raise value\n",
      "  File \"/home/jordi/venv/lib/python3.7/site-packages/flask/app.py\", line 1950, in full_dispatch_request\n",
      "    rv = self.dispatch_request()\n",
      "  File \"/home/jordi/venv/lib/python3.7/site-packages/flask/app.py\", line 1936, in dispatch_request\n",
      "    return self.view_functions[rule.endpoint](**req.view_args)\n",
      "  File \"/home/jordi/Documents/repo/health/flask_app/app.py\", line 92, in predict\n",
      "    input_image = Image.open('../data_kaggle_test/benign/'+id+'.jpg')\n",
      "TypeError: can only concatenate str (not \"int\") to str\n",
      "127.0.0.1 - - [15/Apr/2021 19:52:19] \"\u001b[37mGET /1/predict?__debugger__=yes&cmd=resource&f=jquery.js HTTP/1.1\u001b[0m\" 200 -\n",
      "127.0.0.1 - - [15/Apr/2021 19:52:19] \"\u001b[37mGET /1/predict?__debugger__=yes&cmd=resource&f=debugger.js HTTP/1.1\u001b[0m\" 200 -\n",
      "127.0.0.1 - - [15/Apr/2021 19:52:19] \"\u001b[37mGET /1/predict?__debugger__=yes&cmd=resource&f=style.css HTTP/1.1\u001b[0m\" 200 -\n",
      "127.0.0.1 - - [15/Apr/2021 19:52:19] \"\u001b[37mGET /1/predict?__debugger__=yes&cmd=resource&f=console.png HTTP/1.1\u001b[0m\" 200 -\n",
      " * Detected change in '/home/jordi/Documents/repo/health/flask_app/app.py', reloading\n",
      " * Restarting with stat\n",
      " * Debugger is active!\n",
      " * Debugger PIN: 211-986-096\n",
      "2021-04-15 19:52:20.092964: W tensorflow/stream_executor/platform/default/dso_loader.cc:60] Could not load dynamic library 'libcudart.so.11.0'; dlerror: libcudart.so.11.0: cannot open shared object file: No such file or directory\n",
      "2021-04-15 19:52:20.092998: I tensorflow/stream_executor/cuda/cudart_stub.cc:29] Ignore above cudart dlerror if you do not have a GPU set up on your machine.\n",
      " * Detected change in '/home/jordi/Documents/repo/health/flask_app/app.py', reloading\n",
      " * Restarting with stat\n",
      " * Debugger is active!\n",
      " * Debugger PIN: 211-986-096\n",
      "2021-04-15 19:52:42.917269: W tensorflow/stream_executor/platform/default/dso_loader.cc:60] Could not load dynamic library 'libcudart.so.11.0'; dlerror: libcudart.so.11.0: cannot open shared object file: No such file or directory\n",
      "2021-04-15 19:52:42.917311: I tensorflow/stream_executor/cuda/cudart_stub.cc:29] Ignore above cudart dlerror if you do not have a GPU set up on your machine.\n",
      "127.0.0.1 - - [15/Apr/2021 19:52:45] \"\u001b[35m\u001b[1mGET /1/predict HTTP/1.1\u001b[0m\" 500 -\n",
      "Traceback (most recent call last):\n",
      "  File \"/home/jordi/venv/lib/python3.7/site-packages/flask/_compat.py\", line 39, in reraise\n",
      "    raise value\n",
      "  File \"/home/jordi/Documents/repo/health/flask_app/app.py\", line 86, in <module>\n",
      "    @app.route('/<str:id>/predict')#, methods=('POST',))\n",
      "  File \"/home/jordi/venv/lib/python3.7/site-packages/flask/app.py\", line 1315, in decorator\n",
      "    self.add_url_rule(rule, endpoint, f, **options)\n",
      "  File \"/home/jordi/venv/lib/python3.7/site-packages/flask/app.py\", line 98, in wrapper_func\n",
      "    return f(self, *args, **kwargs)\n",
      "  File \"/home/jordi/venv/lib/python3.7/site-packages/flask/app.py\", line 1278, in add_url_rule\n",
      "    self.url_map.add(rule)\n",
      "  File \"/home/jordi/venv/lib/python3.7/site-packages/werkzeug/routing.py\", line 1482, in add\n",
      "    rule.bind(self)\n",
      "  File \"/home/jordi/venv/lib/python3.7/site-packages/werkzeug/routing.py\", line 767, in bind\n",
      "    self.compile()\n",
      "  File \"/home/jordi/venv/lib/python3.7/site-packages/werkzeug/routing.py\", line 836, in compile\n",
      "    _build_regex(self.rule if self.is_leaf else self.rule.rstrip(\"/\"))\n",
      "  File \"/home/jordi/venv/lib/python3.7/site-packages/werkzeug/routing.py\", line 825, in _build_regex\n",
      "    convobj = self.get_converter(variable, converter, c_args, c_kwargs)\n",
      "  File \"/home/jordi/venv/lib/python3.7/site-packages/werkzeug/routing.py\", line 775, in get_converter\n",
      "    raise LookupError(\"the converter %r does not exist\" % converter_name)\n",
      "LookupError: the converter 'str' does not exist\n"
     ]
    },
    {
     "name": "stdout",
     "output_type": "stream",
     "text": [
      "127.0.0.1 - - [15/Apr/2021 19:52:45] \"\u001b[37mGET /1/predict?__debugger__=yes&cmd=resource&f=jquery.js HTTP/1.1\u001b[0m\" 200 -\n",
      "127.0.0.1 - - [15/Apr/2021 19:52:45] \"\u001b[37mGET /1/predict?__debugger__=yes&cmd=resource&f=debugger.js HTTP/1.1\u001b[0m\" 200 -\n",
      "127.0.0.1 - - [15/Apr/2021 19:52:45] \"\u001b[37mGET /1/predict?__debugger__=yes&cmd=resource&f=style.css HTTP/1.1\u001b[0m\" 200 -\n",
      "127.0.0.1 - - [15/Apr/2021 19:52:45] \"\u001b[37mGET /1/predict?__debugger__=yes&cmd=resource&f=console.png HTTP/1.1\u001b[0m\" 200 -\n",
      "2021-04-15 19:53:02.949564: I tensorflow/compiler/jit/xla_cpu_device.cc:41] Not creating XLA devices, tf_xla_enable_xla_devices not set\n",
      "2021-04-15 19:53:02.949794: W tensorflow/stream_executor/platform/default/dso_loader.cc:60] Could not load dynamic library 'libcuda.so.1'; dlerror: libcuda.so.1: cannot open shared object file: No such file or directory\n",
      "2021-04-15 19:53:02.949815: W tensorflow/stream_executor/cuda/cuda_driver.cc:326] failed call to cuInit: UNKNOWN ERROR (303)\n",
      "2021-04-15 19:53:02.949836: I tensorflow/stream_executor/cuda/cuda_diagnostics.cc:156] kernel driver does not appear to be running on this host (debian): /proc/driver/nvidia/version does not exist\n",
      "2021-04-15 19:53:02.950445: I tensorflow/compiler/jit/xla_gpu_device.cc:99] Not creating XLA devices, tf_xla_enable_xla_devices not set\n",
      " * Detected change in '/home/jordi/Documents/repo/health/flask_app/app.py', reloading\n",
      " * Restarting with stat\n",
      " * Debugger is active!\n",
      " * Debugger PIN: 211-986-096\n",
      "2021-04-15 19:53:03.781664: W tensorflow/stream_executor/platform/default/dso_loader.cc:60] Could not load dynamic library 'libcudart.so.11.0'; dlerror: libcudart.so.11.0: cannot open shared object file: No such file or directory\n",
      "2021-04-15 19:53:03.781699: I tensorflow/stream_executor/cuda/cudart_stub.cc:29] Ignore above cudart dlerror if you do not have a GPU set up on your machine.\n",
      "2021-04-15 19:53:05.422364: I tensorflow/compiler/jit/xla_cpu_device.cc:41] Not creating XLA devices, tf_xla_enable_xla_devices not set\n",
      "2021-04-15 19:53:05.422560: W tensorflow/stream_executor/platform/default/dso_loader.cc:60] Could not load dynamic library 'libcuda.so.1'; dlerror: libcuda.so.1: cannot open shared object file: No such file or directory\n",
      "2021-04-15 19:53:05.422579: W tensorflow/stream_executor/cuda/cuda_driver.cc:326] failed call to cuInit: UNKNOWN ERROR (303)\n",
      "2021-04-15 19:53:05.422603: I tensorflow/stream_executor/cuda/cuda_diagnostics.cc:156] kernel driver does not appear to be running on this host (debian): /proc/driver/nvidia/version does not exist\n",
      "2021-04-15 19:53:05.423039: I tensorflow/compiler/jit/xla_gpu_device.cc:99] Not creating XLA devices, tf_xla_enable_xla_devices not set\n",
      "2021-04-15 19:53:05.808835: I tensorflow/compiler/mlir/mlir_graph_optimization_pass.cc:116] None of the MLIR optimization passes are enabled (registered 2)\n",
      "2021-04-15 19:53:05.828842: I tensorflow/core/platform/profile_utils/cpu_utils.cc:112] CPU Frequency: 2594050000 Hz\n",
      "127.0.0.1 - - [15/Apr/2021 19:53:06] \"\u001b[37mGET /1/predict HTTP/1.1\u001b[0m\" 200 -\n",
      "127.0.0.1 - - [15/Apr/2021 19:53:21] \"\u001b[37mGET /2/predict HTTP/1.1\u001b[0m\" 200 -\n",
      "127.0.0.1 - - [15/Apr/2021 19:53:21] \"\u001b[33mGET /favicon.ico HTTP/1.1\u001b[0m\" 404 -\n",
      "^C\n"
     ]
    }
   ],
   "source": [
    "!export FLASK_APP=app\n",
    "!export FLASK_ENV=development\n",
    "# %cd flask_app/\n",
    "!exec pwd\n",
    "!exec flask run"
   ]
  },
  {
   "cell_type": "code",
   "execution_count": null,
   "metadata": {},
   "outputs": [],
   "source": []
  }
 ],
 "metadata": {
  "kernelspec": {
   "display_name": "Python (venv)",
   "language": "python",
   "name": "venv"
  },
  "language_info": {
   "codemirror_mode": {
    "name": "ipython",
    "version": 3
   },
   "file_extension": ".py",
   "mimetype": "text/x-python",
   "name": "python",
   "nbconvert_exporter": "python",
   "pygments_lexer": "ipython3",
   "version": "3.7.3"
  }
 },
 "nbformat": 4,
 "nbformat_minor": 4
}
